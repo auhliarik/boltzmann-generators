{
 "cells": [
  {
   "cell_type": "markdown",
   "metadata": {},
   "source": [
    "# Trivial test of Boltzman generator functionality"
   ]
  },
  {
   "cell_type": "code",
   "execution_count": 1,
   "metadata": {},
   "outputs": [],
   "source": [
    "import tensorflow as tf\n",
    "import numpy as np\n",
    "import sys\n",
    "import matplotlib.pyplot as plt\n",
    "from scipy.optimize import curve_fit"
   ]
  },
  {
   "cell_type": "code",
   "execution_count": 2,
   "metadata": {
    "scrolled": true
   },
   "outputs": [],
   "source": [
    "import sys\n",
    "sys.path.insert(0,'..')\n",
    "\n",
    "from boltzmann_generator import BoltzmannGenerator\n",
    "from energy_models.normal_distribution import NormalDistribution"
   ]
  },
  {
   "cell_type": "markdown",
   "metadata": {},
   "source": [
    "### Create simple BG\n",
    "- Create BG with just one RealNVP block and plot its topology.\n",
    "- It will be trained to sample 10-dimensional vectors from isotropic normal distribution.\n",
    "- Note that topology is quite compliated even in this simple case."
   ]
  },
  {
   "cell_type": "code",
   "execution_count": 3,
   "metadata": {},
   "outputs": [],
   "source": [
    "dim = 10\n",
    "sigma = 10"
   ]
  },
  {
   "cell_type": "code",
   "execution_count": 4,
   "metadata": {},
   "outputs": [
    {
     "name": "stdout",
     "output_type": "stream",
     "text": [
      "Layers of invertible NN: <R>\n",
      "< 10 0 0\n",
      "R 5 5 0\n",
      "> 5 5 0\n"
     ]
    }
   ],
   "source": [
    "normal_distribution_model = NormalDistribution(dim, sigma)\n",
    "bg = BoltzmannGenerator(\n",
    "    layers='R', \n",
    "    energy_model=normal_distribution_model,\n",
    ")"
   ]
  },
  {
   "cell_type": "code",
   "execution_count": 5,
   "metadata": {},
   "outputs": [
    {
     "name": "stdout",
     "output_type": "stream",
     "text": [
      "Model: \"FzxJ\"\n",
      "__________________________________________________________________________________________________\n",
      "Layer (type)                    Output Shape         Param #     Connected to                     \n",
      "==================================================================================================\n",
      "input_2 (InputLayer)            [(None, 10)]         0                                            \n",
      "__________________________________________________________________________________________________\n",
      "index_layer_3 (IndexLayer)      (None, 5)            0           input_2[0][0]                    \n",
      "__________________________________________________________________________________________________\n",
      "dense_9 (Dense)                 (None, 100)          600         index_layer_3[0][0]              \n",
      "__________________________________________________________________________________________________\n",
      "dense_6 (Dense)                 (None, 100)          600         index_layer_3[0][0]              \n",
      "__________________________________________________________________________________________________\n",
      "dense_10 (Dense)                (None, 100)          10100       dense_9[1][0]                    \n",
      "__________________________________________________________________________________________________\n",
      "dense_7 (Dense)                 (None, 100)          10100       dense_6[1][0]                    \n",
      "__________________________________________________________________________________________________\n",
      "index_layer_2 (IndexLayer)      (None, 5)            0           input_2[0][0]                    \n",
      "__________________________________________________________________________________________________\n",
      "dense_11 (Dense)                (None, 5)            505         dense_10[1][0]                   \n",
      "__________________________________________________________________________________________________\n",
      "dense_8 (Dense)                 (None, 5)            505         dense_7[1][0]                    \n",
      "__________________________________________________________________________________________________\n",
      "subtract (Subtract)             (None, 5)            0           index_layer_2[0][0]              \n",
      "                                                                 dense_11[1][0]                   \n",
      "__________________________________________________________________________________________________\n",
      "lambda_3 (Lambda)               (None, 5)            0           dense_8[1][0]                    \n",
      "__________________________________________________________________________________________________\n",
      "multiply_2 (Multiply)           (None, 5)            0           subtract[0][0]                   \n",
      "                                                                 lambda_3[0][0]                   \n",
      "__________________________________________________________________________________________________\n",
      "dense_3 (Dense)                 (None, 100)          600         multiply_2[0][0]                 \n",
      "__________________________________________________________________________________________________\n",
      "dense (Dense)                   (None, 100)          600         multiply_2[0][0]                 \n",
      "__________________________________________________________________________________________________\n",
      "dense_4 (Dense)                 (None, 100)          10100       dense_3[1][0]                    \n",
      "__________________________________________________________________________________________________\n",
      "dense_1 (Dense)                 (None, 100)          10100       dense[1][0]                      \n",
      "__________________________________________________________________________________________________\n",
      "dense_5 (Dense)                 (None, 5)            505         dense_4[1][0]                    \n",
      "__________________________________________________________________________________________________\n",
      "dense_2 (Dense)                 (None, 5)            505         dense_1[1][0]                    \n",
      "__________________________________________________________________________________________________\n",
      "subtract_1 (Subtract)           (None, 5)            0           index_layer_3[0][0]              \n",
      "                                                                 dense_5[1][0]                    \n",
      "__________________________________________________________________________________________________\n",
      "lambda_4 (Lambda)               (None, 5)            0           dense_2[1][0]                    \n",
      "__________________________________________________________________________________________________\n",
      "multiply_3 (Multiply)           (None, 5)            0           subtract_1[0][0]                 \n",
      "                                                                 lambda_4[0][0]                   \n",
      "__________________________________________________________________________________________________\n",
      "concatenate_1 (Concatenate)     (None, 10)           0           multiply_2[0][0]                 \n",
      "                                                                 multiply_3[0][0]                 \n",
      "__________________________________________________________________________________________________\n",
      "lambda_5 (Lambda)               (None,)              0           dense_8[1][0]                    \n",
      "                                                                 dense_2[1][0]                    \n",
      "__________________________________________________________________________________________________\n",
      "Fzx_output (IndexLayer)         (None, 10)           0           concatenate_1[0][0]              \n",
      "__________________________________________________________________________________________________\n",
      "log_det_Fzx (Lambda)            (None,)              0           lambda_5[0][0]                   \n",
      "==================================================================================================\n",
      "Total params: 44,820\n",
      "Trainable params: 44,820\n",
      "Non-trainable params: 0\n",
      "__________________________________________________________________________________________________\n"
     ]
    }
   ],
   "source": [
    "bg.FzxJ.summary()"
   ]
  },
  {
   "cell_type": "markdown",
   "metadata": {},
   "source": [
    "## Train BG to produce gaussian distribution\n",
    "### Test training by example\n",
    "- Training set consists of 50 000 random samples from 10-dimensional isotropic normal distribution "
   ]
  },
  {
   "cell_type": "code",
   "execution_count": null,
   "metadata": {},
   "outputs": [],
   "source": [
    "size_of_training_set = 50000\n",
    "x_training_set = np.random.normal(0.0, sigma, size=(size_of_training_set, dim))\n",
    "print(\"Mean:\", np.mean(x_training_set), \"St. dev.: \", np.std(x_training_set))"
   ]
  },
  {
   "cell_type": "code",
   "execution_count": 6,
   "metadata": {
    "scrolled": false
   },
   "outputs": [
    {
     "name": "stdout",
     "output_type": "stream",
     "text": [
      "Mean: -0.012662678074903 St. dev.:  9.975251125338188\n",
      "Iteration 0/150: loss: 511.94 ML_loss: 511.94 \n",
      "Iteration 10/150: loss: 477.75 ML_loss: 477.75 \n",
      "Iteration 20/150: loss: 435.72 ML_loss: 435.72 \n",
      "Iteration 30/150: loss: 417.21 ML_loss: 417.21 \n",
      "Iteration 40/150: loss: 379.69 ML_loss: 379.69 \n",
      "Iteration 50/150: loss: 344.97 ML_loss: 344.97 \n",
      "Iteration 60/150: loss: 300.75 ML_loss: 300.75 \n",
      "Iteration 70/150: loss: 244.24 ML_loss: 244.24 \n",
      "Iteration 80/150: loss: 163.58 ML_loss: 163.58 \n",
      "Iteration 90/150: loss: 110.03 ML_loss: 110.03 \n",
      "Iteration 100/150: loss: 76.85 ML_loss: 76.85 \n",
      "Iteration 110/150: loss: 52.79 ML_loss: 52.79 \n",
      "Iteration 120/150: loss: 41.25 ML_loss: 41.25 \n",
      "Iteration 130/150: loss: 36.74 ML_loss: 36.74 \n",
      "Iteration 140/150: loss: 35.34 ML_loss: 35.34 \n"
     ]
    },
    {
     "data": {
      "text/plain": [
       "[<matplotlib.lines.Line2D at 0x7f2c8003e8b0>]"
      ]
     },
     "execution_count": 6,
     "metadata": {},
     "output_type": "execute_result"
    },
    {
     "data": {
      "image/png": "[encoded data removed]",
      "text/plain": [
       "<Figure size 432x288 with 1 Axes>"
      ]
     },
     "metadata": {
      "needs_background": "light"
     },
     "output_type": "display_data"
    }
   ],
   "source": [
    "loss_vals_1 = bg.train(x_training_set, weight_ML=1, weight_KL=0, iterations=150, batch_size=500)\n",
    "plt.plot(loss_vals_1[\"loss\"])"
   ]
  },
  {
   "cell_type": "code",
   "execution_count": 7,
   "metadata": {},
   "outputs": [
    {
     "name": "stdout",
     "output_type": "stream",
     "text": [
      "Iteration 0/200: loss: 18.98 ML_loss: 32.26 KL_loss: -13.28 \n",
      "Iteration 10/200: loss: 13.65 ML_loss: 30.05 KL_loss: -16.40 \n",
      "Iteration 20/200: loss: 12.86 ML_loss: 29.57 KL_loss: -16.71 \n",
      "Iteration 30/200: loss: 12.15 ML_loss: 29.20 KL_loss: -17.04 \n",
      "Iteration 40/200: loss: 12.17 ML_loss: 29.13 KL_loss: -16.96 \n",
      "Iteration 50/200: loss: 11.66 ML_loss: 28.77 KL_loss: -17.11 \n",
      "Iteration 60/200: loss: 11.51 ML_loss: 28.71 KL_loss: -17.20 \n",
      "Iteration 70/200: loss: 11.86 ML_loss: 29.06 KL_loss: -17.20 \n",
      "Iteration 80/200: loss: 11.62 ML_loss: 28.91 KL_loss: -17.28 \n",
      "Iteration 90/200: loss: 11.39 ML_loss: 28.75 KL_loss: -17.36 \n",
      "Iteration 100/200: loss: 11.83 ML_loss: 28.99 KL_loss: -17.16 \n",
      "Iteration 110/200: loss: 10.99 ML_loss: 28.51 KL_loss: -17.52 \n",
      "Iteration 120/200: loss: 11.39 ML_loss: 28.82 KL_loss: -17.43 \n",
      "Iteration 130/200: loss: 11.20 ML_loss: 28.53 KL_loss: -17.33 \n",
      "Iteration 140/200: loss: 11.47 ML_loss: 28.64 KL_loss: -17.18 \n",
      "Iteration 150/200: loss: 11.18 ML_loss: 28.61 KL_loss: -17.43 \n",
      "Iteration 160/200: loss: 10.96 ML_loss: 28.49 KL_loss: -17.53 \n",
      "Iteration 170/200: loss: 11.03 ML_loss: 28.58 KL_loss: -17.55 \n",
      "Iteration 180/200: loss: 10.99 ML_loss: 28.52 KL_loss: -17.53 \n",
      "Iteration 190/200: loss: 11.17 ML_loss: 28.66 KL_loss: -17.49 \n"
     ]
    },
    {
     "data": {
      "text/plain": [
       "[<matplotlib.lines.Line2D at 0x7f2c594d12b0>]"
      ]
     },
     "execution_count": 7,
     "metadata": {},
     "output_type": "execute_result"
    },
    {
     "data": {
      "image/png": "[encoded data removed]",
      "text/plain": [
       "<Figure size 432x288 with 1 Axes>"
      ]
     },
     "metadata": {
      "needs_background": "light"
     },
     "output_type": "display_data"
    }
   ],
   "source": [
    "loss_vals_2 = bg.train(x_training_set, weight_ML=1, weight_KL=1, iterations=200, batch_size=1000, verbose=True)\n",
    "plt.plot(loss_vals_2[\"loss\"])"
   ]
  },
  {
   "cell_type": "markdown",
   "metadata": {},
   "source": [
    "## Evaluate quality of BG as sampler"
   ]
  },
  {
   "cell_type": "code",
   "execution_count": 8,
   "metadata": {},
   "outputs": [
    {
     "name": "stdout",
     "output_type": "stream",
     "text": [
      "Chosen coordinate: 8\n",
      "Mean: -0.012360304 St. dev.: 10.212243\n"
     ]
    }
   ],
   "source": [
    "n_samples = 100000\n",
    "sample = bg.sample(n_samples)[1]\n",
    "coordinate = np.random.choice(np.arange(dim))\n",
    "print(\"Chosen coordinate:\", coordinate)\n",
    "x = sample[:,coordinate]\n",
    "print(\"Mean:\", np.mean(x), \"St. dev.:\", np.std(x))"
   ]
  },
  {
   "cell_type": "code",
   "execution_count": 9,
   "metadata": {},
   "outputs": [
    {
     "name": "stdout",
     "output_type": "stream",
     "text": [
      "Fit properties: \n",
      "Mean: 0.013262881072111115 \n",
      "Amplitude: 2317.268561816333 \n",
      "Standard deviation: 10.191847824932168\n"
     ]
    },
    {
     "data": {
      "image/png": "[encoded data removed]",
      "text/plain": [
       "<Figure size 432x288 with 1 Axes>"
      ]
     },
     "metadata": {
      "needs_background": "light"
     },
     "output_type": "display_data"
    }
   ],
   "source": [
    "def gaussian(x, mean, amplitude, standard_deviation):\n",
    "    return amplitude * np.exp( - (x - mean)**2 / ( 2 * standard_deviation**2))\n",
    "\n",
    "bin_heights, bin_borders, _ = plt.hist(x, bins='auto', label='histogram')\n",
    "bin_centers = bin_borders[:-1] + np.diff(bin_borders) / 2\n",
    "popt, _ = curve_fit(gaussian, bin_centers, bin_heights, p0=[1., 0., 1.])\n",
    "\n",
    "x_interval_for_fit = np.linspace(bin_borders[0], bin_borders[-1], 10000)\n",
    "plt.plot(x_interval_for_fit, gaussian(x_interval_for_fit, *popt), label='fit')\n",
    "plt.legend()\n",
    "print(\"Fit properties:\", \"\\nMean:\", popt[0], \"\\nAmplitude:\", popt[1], \"\\nStandard deviation:\", popt[2])"
   ]
  },
  {
   "cell_type": "code",
   "execution_count": null,
   "metadata": {},
   "outputs": [],
   "source": []
  }
 ],
 "metadata": {
  "kernelspec": {
   "display_name": "Python 3",
   "language": "python",
   "name": "python3"
  },
  "language_info": {
   "codemirror_mode": {
    "name": "ipython",
    "version": 3
   },
   "file_extension": ".py",
   "mimetype": "text/x-python",
   "name": "python",
   "nbconvert_exporter": "python",
   "pygments_lexer": "ipython3",
   "version": "3.8.5"
  }
 },
 "nbformat": 4,
 "nbformat_minor": 4
}
